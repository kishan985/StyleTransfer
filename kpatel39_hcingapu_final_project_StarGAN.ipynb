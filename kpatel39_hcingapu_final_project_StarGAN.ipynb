{
  "cells": [
    {
      "cell_type": "code",
      "execution_count": 1,
      "metadata": {
        "colab": {
          "base_uri": "https://localhost:8080/"
        },
        "id": "WEb--3prHMOm",
        "outputId": "ab2bed38-2a68-486e-d420-659c9a333062"
      },
      "outputs": [
        {
          "name": "stdout",
          "output_type": "stream",
          "text": [
            "Mounted at /content/drive\n"
          ]
        }
      ],
      "source": [
        "from google.colab import drive\n",
        "drive.mount('/content/drive')"
      ]
    },
    {
      "cell_type": "code",
      "execution_count": 2,
      "metadata": {
        "id": "Q_KGMlD3HPKo"
      },
      "outputs": [],
      "source": [
        "import torch\n",
        "from torch import nn\n",
        "from torch.utils.data import DataLoader\n",
        "import torchvision\n",
        "import torchvision.transforms as transforms\n",
        "from torchvision.datasets import ImageFolder\n",
        "from PIL import Image\n",
        "import itertools\n",
        "import matplotlib.pyplot as plt\n",
        "import numpy as np"
      ]
    },
    {
      "attachments": {},
      "cell_type": "markdown",
      "metadata": {},
      "source": [
        "# Data loading and preprocessing"
      ]
    },
    {
      "cell_type": "code",
      "execution_count": 3,
      "metadata": {
        "id": "PkXhWNVwHRn7"
      },
      "outputs": [],
      "source": [
        "transform = transforms.Compose([\n",
        "    transforms.Resize((256, 256)),\n",
        "    transforms.ToTensor(),\n",
        "    transforms.Normalize(mean=[0.5, 0.5, 0.5], std=[0.5, 0.5, 0.5]),\n",
        "])\n",
        "\n",
        "normal_dataset = ImageFolder('/content/drive/MyDrive/Deep Learning/normal pictures', transform=transform)\n",
        "art_dataset = ImageFolder('/content/drive/MyDrive/Deep Learning/art images', transform=transform)\n",
        "\n",
        "normal_loader = DataLoader(normal_dataset, batch_size=1, shuffle=True)\n",
        "art_loader = DataLoader(art_dataset, batch_size=1, shuffle=True)"
      ]
    },
    {
      "cell_type": "code",
      "execution_count": 5,
      "metadata": {
        "colab": {
          "base_uri": "https://localhost:8080/"
        },
        "id": "dQBwvpVhHZmh",
        "outputId": "500d05a1-8d04-4f3c-ddc1-f43513228cf0"
      },
      "outputs": [
        {
          "name": "stdout",
          "output_type": "stream",
          "text": [
            "Unique image sizes in normal dataset: {torch.Size([3, 256, 256])}\n",
            "Unique color channels in normal dataset: {3}\n",
            "Unique image sizes in art dataset: {torch.Size([3, 256, 256])}\n",
            "Unique color channels in art dataset: {3}\n"
          ]
        }
      ],
      "source": [
        "# Checking normal images\n",
        "normal_sizes = [img.size() for img, _ in normal_loader.dataset]\n",
        "normal_unique_sizes = set(normal_sizes)\n",
        "print(\"Unique image sizes in normal dataset:\", normal_unique_sizes)\n",
        "\n",
        "normal_channels = [img.size(0) for img, _ in normal_loader.dataset]\n",
        "normal_unique_channels = set(normal_channels)\n",
        "print(\"Unique color channels in normal dataset:\", normal_unique_channels)\n",
        "\n",
        "# Checking art images\n",
        "art_sizes = [img.size() for img, _ in art_loader.dataset]\n",
        "art_unique_sizes = set(art_sizes)\n",
        "print(\"Unique image sizes in art dataset:\", art_unique_sizes)\n",
        "\n",
        "art_channels = [img.size(0) for img, _ in art_loader.dataset]\n",
        "art_unique_channels = set(art_channels)\n",
        "print(\"Unique color channels in art dataset:\", art_unique_channels)"
      ]
    },
    {
      "attachments": {},
      "cell_type": "markdown",
      "metadata": {},
      "source": [
        "# StarGAN"
      ]
    },
    {
      "cell_type": "code",
      "execution_count": 8,
      "metadata": {
        "id": "MjbsAwWGHnXm"
      },
      "outputs": [],
      "source": [
        "device = torch.device('cuda' if torch.cuda.is_available() else 'cpu')\n",
        "\n",
        "import torch.nn as nn\n",
        "import torch.nn.functional as F\n",
        "\n",
        "class ResidualBlock(nn.Module):\n",
        "    def __init__(self, in_features):\n",
        "        super(ResidualBlock, self).__init__()\n",
        "\n",
        "        self.block = nn.Sequential(\n",
        "            nn.Conv2d(in_features, in_features, kernel_size=3, stride=1, padding=1, bias=False),\n",
        "            nn.InstanceNorm2d(in_features, affine=True, track_running_stats=True),\n",
        "            nn.ReLU(inplace=True),\n",
        "            nn.Conv2d(in_features, in_features, kernel_size=3, stride=1, padding=1, bias=False),\n",
        "            nn.InstanceNorm2d(in_features, affine=True, track_running_stats=True)\n",
        "        )\n",
        "\n",
        "    def forward(self, x):\n",
        "        return x + self.block(x)\n",
        "\n",
        "\n",
        "class Generator(nn.Module):\n",
        "    def __init__(self, c_dim, num_res_blocks):\n",
        "        super(Generator, self).__init__()\n",
        "\n",
        "        layers = [\n",
        "            nn.Conv2d(3 + c_dim, 64, kernel_size=7, stride=1, padding=3, bias=False),\n",
        "            nn.InstanceNorm2d(64, affine=True, track_running_stats=True),\n",
        "            nn.ReLU(inplace=True)\n",
        "        ]\n",
        "\n",
        "        # Down-sampling layers\n",
        "        curr_dim = 64\n",
        "        for _ in range(2):\n",
        "            layers.append(nn.Conv2d(curr_dim, curr_dim * 2, kernel_size=4, stride=2, padding=1, bias=False))\n",
        "            layers.append(nn.InstanceNorm2d(curr_dim * 2, affine=True, track_running_stats=True))\n",
        "            layers.append(nn.ReLU(inplace=True))\n",
        "            curr_dim *= 2\n",
        "\n",
        "        # Residual blocks\n",
        "        for _ in range(num_res_blocks):\n",
        "            layers.append(ResidualBlock(curr_dim))\n",
        "\n",
        "        # Up-sampling layers\n",
        "        for _ in range(2):\n",
        "            layers.append(nn.ConvTranspose2d(curr_dim, curr_dim // 2, kernel_size=4, stride=2, padding=1, bias=False))\n",
        "            layers.append(nn.InstanceNorm2d(curr_dim // 2, affine=True, track_running_stats=True))\n",
        "            layers.append(nn.ReLU(inplace=True))\n",
        "            curr_dim = curr_dim // 2\n",
        "\n",
        "        layers.append(nn.Conv2d(curr_dim, 3, kernel_size=7, stride=1, padding=3, bias=False))\n",
        "        layers.append(nn.Tanh())\n",
        "        self.main = nn.Sequential(*layers)\n",
        "\n",
        "    def forward(self, x, c):\n",
        "        c = c.view(c.size(0), c_dim, 1, 1).expand(-1, -1, x.size(2), x.size(3))\n",
        "        x = torch.cat([x, c], dim=1)\n",
        "        return self.main(x)\n",
        "\n",
        "\n",
        "class Discriminator(nn.Module):\n",
        "    def __init__(self, image_size, c_dim, num_layers=5):\n",
        "        super(Discriminator, self).__init__()\n",
        "\n",
        "        layers = [\n",
        "            nn.Conv2d(3, 64, kernel_size=4, stride=2, padding=1),\n",
        "            nn.LeakyReLU(0.01)\n",
        "        ]\n",
        "\n",
        "        curr_dim = 64\n",
        "        for i in range(1, num_layers):\n",
        "            layers.append(nn.Conv2d(curr_dim, curr_dim * 2, kernel_size=4, stride=2, padding=1))\n",
        "            layers.append(nn.LeakyReLU(0.01))\n",
        "            curr_dim *= 2\n",
        "\n",
        "        kernel_size = image_size // 2**num_layers\n",
        "        self.main = nn.Sequential(*layers)\n",
        "        self.conv1 = nn.Conv2d(curr_dim, 1, kernel_size=3, stride=1, padding=1, bias=False)\n",
        "        self.conv2 = nn.Conv2d(curr_dim, c_dim, kernel_size=kernel_size, bias=False)\n",
        "\n",
        "    def forward(self, x):\n",
        "        h = self.main(x)\n",
        "        out_src = self.conv1(h)\n",
        "        out_cls = self.conv2(h)\n",
        "        return out_src, out_cls.view(out_cls.size(0), out_cls.size(1))\n",
        "\n",
        "# Hyperparameters\n",
        "c_dim = 5\n",
        "num_res_blocks = 9\n",
        "image_size = 256\n",
        "\n",
        "# Initialize generator and discriminator\n",
        "G = Generator(c_dim=c_dim, num_res_blocks=num_res_blocks).to(device)\n",
        "D = Discriminator(image_size=image_size, c_dim=c_dim).to(device)\n",
        "\n",
        "# Loss functions\n",
        "criterion_GAN = torch.nn.MSELoss()\n",
        "criterion_cycle = torch.nn.L1Loss()\n",
        "criterion_identity = torch.nn.L1Loss()\n"
      ]
    },
    {
      "attachments": {},
      "cell_type": "markdown",
      "metadata": {},
      "source": [
        "# Training"
      ]
    },
    {
      "cell_type": "code",
      "execution_count": 9,
      "metadata": {
        "colab": {
          "base_uri": "https://localhost:8080/"
        },
        "id": "2n6WPjzhH4HR",
        "outputId": "d835bce2-c403-41cc-d446-b91457847627"
      },
      "outputs": [
        {
          "name": "stdout",
          "output_type": "stream",
          "text": [
            "Epoch [1/20], d_loss: 1.4457578659057617, g_loss: 2.195093870162964\n",
            "Epoch [2/20], d_loss: 0.48218536376953125, g_loss: 1.3686442375183105\n",
            "Epoch [3/20], d_loss: 0.48842382431030273, g_loss: 1.5755728483200073\n",
            "Epoch [4/20], d_loss: 0.4098147451877594, g_loss: 1.1625292301177979\n",
            "Epoch [5/20], d_loss: 0.6065682768821716, g_loss: 1.2220125198364258\n",
            "Epoch [6/20], d_loss: 0.6226940155029297, g_loss: 1.1847596168518066\n",
            "Epoch [7/20], d_loss: 0.5421837568283081, g_loss: 1.4086717367172241\n",
            "Epoch [8/20], d_loss: 0.41832607984542847, g_loss: 1.2949676513671875\n",
            "Epoch [9/20], d_loss: 0.906792402267456, g_loss: 1.3380141258239746\n",
            "Epoch [10/20], d_loss: 0.3939988315105438, g_loss: 1.3281700611114502\n",
            "Epoch [11/20], d_loss: 0.8919236660003662, g_loss: 1.4894895553588867\n",
            "Epoch [12/20], d_loss: 0.4688393175601959, g_loss: 1.1224557161331177\n",
            "Epoch [13/20], d_loss: 0.23701545596122742, g_loss: 1.349637508392334\n",
            "Epoch [14/20], d_loss: 0.2647015452384949, g_loss: 1.1102395057678223\n",
            "Epoch [15/20], d_loss: 0.6063245534896851, g_loss: 1.8201961517333984\n",
            "Epoch [16/20], d_loss: 0.5063110589981079, g_loss: 1.7844080924987793\n",
            "Epoch [17/20], d_loss: 0.30435675382614136, g_loss: 1.1883187294006348\n",
            "Epoch [18/20], d_loss: 0.4218790531158447, g_loss: 0.9150674343109131\n",
            "Epoch [19/20], d_loss: 0.23531293869018555, g_loss: 1.4276766777038574\n",
            "Epoch [20/20], d_loss: 0.5085533857345581, g_loss: 1.321640133857727\n"
          ]
        }
      ],
      "source": [
        "import os\n",
        "\n",
        "# Directory for saving generated images\n",
        "sample_dir = 'samples'\n",
        "if not os.path.exists(sample_dir):\n",
        "    os.makedirs(sample_dir)\n",
        "\n",
        "# Denormalization function\n",
        "def denorm(x):\n",
        "    out = (x + 1) / 2\n",
        "    return out.clamp(0, 1)\n",
        "\n",
        "# Save Image Function\n",
        "def save_image(tensor, filename):\n",
        "    tensor = tensor.detach()\n",
        "    tensor = tensor.add(1).div(2)\n",
        "    tensor = tensor.clamp(0, 1)\n",
        "    torchvision.utils.save_image(tensor, filename)\n",
        "\n",
        "# Get labels for the images\n",
        "def get_labels(image, dataset='normal'):\n",
        "    if dataset == 'normal':\n",
        "        return torch.zeros(image.size(0), dtype=torch.long)\n",
        "    else:\n",
        "        return torch.ones(image.size(0), dtype=torch.long)\n",
        "\n",
        "\n",
        "num_epochs = 20\n",
        "step = 0\n",
        "\n",
        "# Losses to be used in the training\n",
        "criterion_GAN = torch.nn.MSELoss().to(device)\n",
        "criterion_cls = torch.nn.CrossEntropyLoss().to(device)\n",
        "\n",
        "# Optimizers\n",
        "optimizer_G = torch.optim.Adam(G.parameters(), lr=0.0002, betas=(0.5, 0.999))\n",
        "optimizer_D = torch.optim.Adam(D.parameters(), lr=0.0002, betas=(0.5, 0.999))\n",
        "\n",
        "def reset_grad():\n",
        "    optimizer_G.zero_grad()\n",
        "    optimizer_D.zero_grad()\n",
        "\n",
        "# Training\n",
        "d_losses = []\n",
        "g_losses = []\n",
        "for epoch in range(num_epochs):\n",
        "    art_iter = iter(art_loader)\n",
        "    for i, (normal_images, _) in enumerate(normal_loader):\n",
        "        normal_images = normal_images.to(device)\n",
        "        normal_labels = get_labels(normal_images, dataset='normal').to(device)\n",
        "\n",
        "        try:\n",
        "            art_images, _ = next(art_iter)\n",
        "        except StopIteration:\n",
        "            art_iter = iter(art_loader)\n",
        "            art_images, _ = next(art_iter)\n",
        "\n",
        "        art_images = art_images.to(device)\n",
        "        art_labels = get_labels(art_images, dataset='art').to(device)\n",
        "\n",
        "        # Real images and corresponding labels\n",
        "        real_images = torch.cat([normal_images, art_images], dim=0)\n",
        "        real_labels = torch.cat([normal_labels, art_labels], dim=0)\n",
        "\n",
        "        # Compute loss with real images\n",
        "        out_src, out_cls = D(real_images)\n",
        "        d_loss_real = criterion_GAN(out_src, torch.ones_like(out_src)) + criterion_cls(out_cls, real_labels)\n",
        "\n",
        "        # Generate fake images and labels\n",
        "        fake_normal_labels = get_labels(normal_images, dataset='art').to(device)\n",
        "        fake_art_labels = get_labels(art_images, dataset='normal').to(device)\n",
        "        fake_normal_images = G(normal_images, F.one_hot(fake_normal_labels, num_classes=c_dim).float().to(device))\n",
        "        fake_art_images = G(art_images, F.one_hot(fake_art_labels, num_classes=c_dim).float().to(device))\n",
        "\n",
        "        # Compute loss with fake images\n",
        "        fake_images = torch.cat([fake_normal_images, fake_art_images], dim=0)\n",
        "        fake_labels = torch.cat([fake_normal_labels, fake_art_labels], dim=0)\n",
        "        out_src, out_cls = D(fake_images.detach())\n",
        "        d_loss_fake = criterion_GAN(out_src, torch.zeros_like(out_src)) + criterion_cls(out_cls, fake_labels)\n",
        "\n",
        "        # Compute loss for the discriminator\n",
        "        d_loss = d_loss_real + d_loss_fake\n",
        "\n",
        "        # Optimize the discriminator\n",
        "        reset_grad()\n",
        "        d_loss.backward()\n",
        "        optimizer_D.step()\n",
        "\n",
        "         # Compute loss with fake images for the generator\n",
        "        out_src, out_cls = D(fake_images)\n",
        "        g_loss = criterion_GAN(out_src, torch.ones_like(out_src)) + criterion_cls(out_cls, fake_labels)\n",
        "\n",
        "        # Compute loss for cycle consistency\n",
        "        recon_normal = G(fake_art_images, F.one_hot(normal_labels, num_classes=c_dim).float().to(device))\n",
        "        recon_art = G(fake_normal_images, F.one_hot(art_labels, num_classes=c_dim).float().to(device))\n",
        "\n",
        "        g_loss_recon = criterion_cycle(recon_normal, normal_images) + criterion_cycle(recon_art, art_images)\n",
        "\n",
        "        # Add it to the generator's loss\n",
        "        g_loss += g_loss_recon\n",
        "\n",
        "        # Optimize the generator\n",
        "        reset_grad()\n",
        "        g_loss.backward()\n",
        "        optimizer_G.step()\n",
        "        d_losses.append(d_loss.item())\n",
        "        g_losses.append(g_loss.item())\n",
        "\n",
        "    fake_normal_images = fake_normal_images.detach().cpu()\n",
        "    fake_art_images = fake_art_images.detach().cpu()\n",
        "    save_image(fake_normal_images, f'samples/fake_normal_{epoch+1}.png')\n",
        "    save_image(fake_art_images, f'samples/fake_art_{epoch+1}.png')\n",
        "\n",
        "\n",
        "    print(f'Epoch [{epoch+1}/{num_epochs}], d_loss: {d_loss.item()}, g_loss: {g_loss.item()}')\n"
      ]
    },
    {
      "cell_type": "code",
      "execution_count": 10,
      "metadata": {
        "colab": {
          "base_uri": "https://localhost:8080/",
          "height": 487
        },
        "id": "thRIKm1mmWR9",
        "outputId": "b64649a8-481b-4138-e650-7cc3a46f751a"
      },
      "outputs": [
        {
          "data": {
            "image/png": "[encoded data removed]",
            "text/plain": [
              "<Figure size 1000x500 with 1 Axes>"
            ]
          },
          "metadata": {},
          "output_type": "display_data"
        }
      ],
      "source": [
        "import matplotlib.pyplot as plt\n",
        "\n",
        "plt.figure(figsize=(10, 5))\n",
        "plt.title(\"Generator and Discriminator Loss During Training\")\n",
        "\n",
        "plt.plot(g_losses, label=\"G\")\n",
        "plt.plot(d_losses, label=\"D\")\n",
        "plt.xlabel(\"iterations\")\n",
        "plt.ylabel(\"Loss\")\n",
        "plt.legend()\n",
        "plt.show()"
      ]
    },
    {
      "cell_type": "code",
      "execution_count": null,
      "metadata": {
        "id": "Vocs1owG6sCz"
      },
      "outputs": [],
      "source": [
        "import os\n",
        "print(os.getcwd())"
      ]
    },
    {
      "cell_type": "code",
      "execution_count": 18,
      "metadata": {
        "id": "8LK61ekVJkUC"
      },
      "outputs": [],
      "source": [
        "# Save the models\n",
        "torch.save(G.state_dict(), '/content/G.pth')\n",
        "torch.save(D.state_dict(), '/content/D.pth')\n"
      ]
    }
  ],
  "metadata": {
    "accelerator": "GPU",
    "colab": {
      "gpuType": "T4",
      "machine_shape": "hm",
      "provenance": []
    },
    "kernelspec": {
      "display_name": "Python 3",
      "name": "python3"
    },
    "language_info": {
      "name": "python"
    }
  },
  "nbformat": 4,
  "nbformat_minor": 0
}
